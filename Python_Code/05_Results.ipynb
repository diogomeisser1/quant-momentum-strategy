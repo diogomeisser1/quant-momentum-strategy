{
 "cells": [
  {
   "cell_type": "code",
   "execution_count": null,
   "id": "1e99adb2-2932-42fd-b48a-077dc47ca3a2",
   "metadata": {},
   "outputs": [],
   "source": []
  }
 ],
 "metadata": {
  "kernelspec": {
   "display_name": "",
   "name": ""
  },
  "language_info": {
   "name": ""
  }
 },
 "nbformat": 4,
 "nbformat_minor": 5
}
